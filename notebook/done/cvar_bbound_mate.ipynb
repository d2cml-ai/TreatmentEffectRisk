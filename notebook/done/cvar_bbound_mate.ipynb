{
 "cells": [
  {
   "cell_type": "code",
   "execution_count": 1,
   "metadata": {},
   "outputs": [
    {
     "data": {
      "text/html": [
       "<div>\n",
       "<style scoped>\n",
       "    .dataframe tbody tr th:only-of-type {\n",
       "        vertical-align: middle;\n",
       "    }\n",
       "\n",
       "    .dataframe tbody tr th {\n",
       "        vertical-align: top;\n",
       "    }\n",
       "\n",
       "    .dataframe thead th {\n",
       "        text-align: right;\n",
       "    }\n",
       "</style>\n",
       "<table border=\"1\" class=\"dataframe\">\n",
       "  <thead>\n",
       "    <tr style=\"text-align: right;\">\n",
       "      <th></th>\n",
       "      <th>X</th>\n",
       "      <th>sw</th>\n",
       "      <th>A_public</th>\n",
       "      <th>A_private</th>\n",
       "      <th>A_standard</th>\n",
       "      <th>Y</th>\n",
       "      <th>College_education</th>\n",
       "      <th>nivetude2</th>\n",
       "      <th>Vocational</th>\n",
       "      <th>High_school_dropout</th>\n",
       "      <th>...</th>\n",
       "      <th>mois_saisie_occ</th>\n",
       "      <th>ndem</th>\n",
       "      <th>A</th>\n",
       "      <th>ipw</th>\n",
       "      <th>tau</th>\n",
       "      <th>mu0</th>\n",
       "      <th>mu1</th>\n",
       "      <th>var0</th>\n",
       "      <th>var1</th>\n",
       "      <th>tau.bad</th>\n",
       "    </tr>\n",
       "  </thead>\n",
       "  <tbody>\n",
       "    <tr>\n",
       "      <th>0</th>\n",
       "      <td>1</td>\n",
       "      <td>0.831709</td>\n",
       "      <td>0</td>\n",
       "      <td>1</td>\n",
       "      <td>0</td>\n",
       "      <td>0</td>\n",
       "      <td>0</td>\n",
       "      <td>0</td>\n",
       "      <td>0</td>\n",
       "      <td>1</td>\n",
       "      <td>...</td>\n",
       "      <td>12</td>\n",
       "      <td>3</td>\n",
       "      <td>0</td>\n",
       "      <td>1.093957</td>\n",
       "      <td>0.149983</td>\n",
       "      <td>0.161441</td>\n",
       "      <td>0.256562</td>\n",
       "      <td>0.14461</td>\n",
       "      <td>0.14461</td>\n",
       "      <td>0.021666</td>\n",
       "    </tr>\n",
       "    <tr>\n",
       "      <th>1</th>\n",
       "      <td>2</td>\n",
       "      <td>0.827225</td>\n",
       "      <td>0</td>\n",
       "      <td>1</td>\n",
       "      <td>0</td>\n",
       "      <td>0</td>\n",
       "      <td>0</td>\n",
       "      <td>0</td>\n",
       "      <td>1</td>\n",
       "      <td>0</td>\n",
       "      <td>...</td>\n",
       "      <td>5</td>\n",
       "      <td>1</td>\n",
       "      <td>0</td>\n",
       "      <td>1.093957</td>\n",
       "      <td>0.045171</td>\n",
       "      <td>0.200045</td>\n",
       "      <td>0.214824</td>\n",
       "      <td>0.15941</td>\n",
       "      <td>0.15941</td>\n",
       "      <td>0.007530</td>\n",
       "    </tr>\n",
       "  </tbody>\n",
       "</table>\n",
       "<p>2 rows × 54 columns</p>\n",
       "</div>"
      ],
      "text/plain": [
       "   X        sw  A_public  A_private  A_standard  Y  College_education  \\\n",
       "0  1  0.831709         0          1           0  0                  0   \n",
       "1  2  0.827225         0          1           0  0                  0   \n",
       "\n",
       "   nivetude2  Vocational  High_school_dropout  ...  mois_saisie_occ  ndem  A  \\\n",
       "0          0           0                    1  ...               12     3  0   \n",
       "1          0           1                    0  ...                5     1  0   \n",
       "\n",
       "        ipw       tau       mu0       mu1     var0     var1   tau.bad  \n",
       "0  1.093957  0.149983  0.161441  0.256562  0.14461  0.14461  0.021666  \n",
       "1  1.093957  0.045171  0.200045  0.214824  0.15941  0.15941  0.007530  \n",
       "\n",
       "[2 rows x 54 columns]"
      ]
     },
     "execution_count": 1,
     "metadata": {},
     "output_type": "execute_result"
    }
   ],
   "source": [
    "import pandas as pd, numpy as np, matplotlib.pyplot as plt\n",
    "from utils import wtdquantile\n",
    "\n",
    "job_binary = pd.read_csv(\"../data/results.csv\")\n",
    "job_binary.head(2)"
   ]
  },
  {
   "cell_type": "code",
   "execution_count": 2,
   "metadata": {},
   "outputs": [],
   "source": [
    "# def cvar_bbound_mate(q, p, b, data, mu1_col='mu1', mu0_col='mu0', A_col='A', ipw_col='ipw', Y_col='Y', tau_col='tau'):\n",
    "#     mu1 = data[mu1_col]\n",
    "#     mu0 = data[mu0_col]\n",
    "#     A = data[A_col]\n",
    "#     ipw = data[ipw_col]\n",
    "#     Y = data[Y_col]\n",
    "#     tau = data[tau_col]\n",
    "\n",
    "#     weighted_difference = (2 * A - 1) * ipw * (Y - A * mu1 - (1 - A) * mu0)\n",
    "#     mu = mu1 - mu0\n",
    "#     condition = tau - b <= q\n",
    "\n",
    "#     result = -(mu + weighted_difference) + q + \\\n",
    "#              (mu + weighted_difference - q - b) * condition / (2 * p) + \\\n",
    "#              (mu + weighted_difference - q + b) * condition / (2 * p)\n",
    "\n",
    "#     return result\n",
    "ps = np.arange(0.01, 1.01, 0.01)\n",
    "bs = np.arange(0, 0.30, 0.05)"
   ]
  },
  {
   "cell_type": "code",
   "execution_count": 40,
   "metadata": {},
   "outputs": [],
   "source": [
    "tau = job_binary['tau']\n",
    "sw = job_binary['sw']\n",
    "\n",
    "ps = [0.13, 0.4, 0.5, 0.85, 0.11, 0.95, 0.09, 0.75, 0.02, 0.73, 0.74, 0.04, 0.5, 0.94]\n",
    "bs = [0, 0, 0, 0, 0.05, 0.05, 0.1, 0.1, 0.15, 0.15, 0.15, 0.2, 0.2, 0.25]\n",
    "\n",
    "\n",
    "n = 0\n",
    "# tau1 = np.concatenate((tau + bs[n], tau - bs[n]))\n",
    "sw1 = np.concatenate((sw, sw))\n",
    "\n",
    "results = pd.DataFrame()\n",
    "\n",
    "for b in bs:\n",
    "    tau1 = np.concatenate((tau + b, tau - b))\n",
    "    for p in ps:\n",
    "        q = wtdquantile(tau1, sw1, p)\n",
    "        IF = cvar_bbound_mate(q, p, b, job_binary)\n",
    "        cvar = IF * sw\n",
    "        CVaR = np.nanmean(cvar)\n",
    "        CVaR_se = np.nanstd(cvar) / np.sqrt(len(sw))\n",
    "        result = pd.DataFrame({\"CVaR\": [CVaR], \"CVaR_se\": [CVaR_se], \"p\": [p]})\n",
    "\n",
    "        if b is not None:\n",
    "            result[\"b\"] = [b]\n",
    "\n",
    "        results = pd.concat((results, result))\n",
    "# results\n"
   ]
  },
  {
   "cell_type": "code",
   "execution_count": 3,
   "metadata": {},
   "outputs": [],
   "source": [
    "def cvar_bbound_mate_r(data, ps, bs, tau_col = 'tau', sw_col='sw'):\n",
    "    tau = data[tau_col]\n",
    "    sw = data[sw_col]\n",
    "\n",
    "    sw1 = np.concatenate((sw, sw))\n",
    "    results = pd.DataFrame()\n",
    "\n",
    "    for b in bs:\n",
    "        tau1 = np.concatenate((tau + b, tau - b))\n",
    "        for p in ps:\n",
    "            q = wtdquantile(tau1, sw1, p)\n",
    "            IF = cvar_bbound_mate(q, p, b, data)\n",
    "            cvar = IF * sw\n",
    "            CVaR = np.nanmean(cvar)\n",
    "            CVaR_se = np.nanstd(cvar) / np.sqrt(len(sw))\n",
    "            result = pd.DataFrame({\"CVaR\": [CVaR], \"CVaR_se\": [CVaR_se], \"p\": [p]})\n",
    "\n",
    "            if b is not None:\n",
    "                result[\"b\"] = [b]\n",
    "\n",
    "            results = pd.concat((results, result))\n",
    "    return results"
   ]
  },
  {
   "cell_type": "code",
   "execution_count": 4,
   "metadata": {},
   "outputs": [],
   "source": [
    "results = cvar_bbound_mate_r(job_binary, ps, bs)"
   ]
  },
  {
   "cell_type": "code",
   "execution_count": 3,
   "metadata": {},
   "outputs": [],
   "source": [
    "from CVaR_calculate import cvar_bbound_mate\n",
    "results = cvar_bbound_mate(job_binary, ps, bs)"
   ]
  },
  {
   "cell_type": "code",
   "execution_count": 4,
   "metadata": {},
   "outputs": [
    {
     "data": {
      "text/plain": [
       "<matplotlib.collections.PathCollection at 0x2220009b6a0>"
      ]
     },
     "execution_count": 4,
     "metadata": {},
     "output_type": "execute_result"
    },
    {
     "data": {
      "image/png": "[encoded data removed]",
      "text/plain": [
       "<Figure size 640x480 with 1 Axes>"
      ]
     },
     "metadata": {},
     "output_type": "display_data"
    }
   ],
   "source": [
    "plt.scatter(\"p\", \"CVaR\", data = results)"
   ]
  }
 ],
 "metadata": {
  "kernelspec": {
   "display_name": "TreatmentEffectRisk-0uKJM8EI",
   "language": "python",
   "name": "python3"
  },
  "language_info": {
   "codemirror_mode": {
    "name": "ipython",
    "version": 3
   },
   "file_extension": ".py",
   "mimetype": "text/x-python",
   "name": "python",
   "nbconvert_exporter": "python",
   "pygments_lexer": "ipython3",
   "version": "3.10.9"
  }
 },
 "nbformat": 4,
 "nbformat_minor": 2
}
